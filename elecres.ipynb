{
 "cells": [
  {
   "cell_type": "markdown",
   "metadata": {},
   "source": [
    "Part 1\n",
    "\n",
    "Procedure:\n",
    "- Capacitance set 3nF as a test to find resonant frequency\n",
    "- oscilloscope probes connected to common ground with channel 1 measuring the voltage across the resistor and channel 2 measuring the input signal\n",
    "- resonant frequency measured by observing when the phase difference between the two waves was 0 and the voltage on channel 1 was maximized\n",
    "- averaging on the oscilloscope set to 2\n",
    "\n",
    "Table 1: Resonant frequency in the RLC circuit as the capacitance on the decade capacitance box was varied\n",
    "\n",
    "\n",
    "| Decade Box Capacitance (+/- 0.5 nF) | Resonant frequency (+/- 0.01 kHz)|\n",
    "|:--:|:--:|\n",
    "|1|16.33|\n",
    "|2|11.96|\n",
    "|3|10.02|\n",
    "|4|8.70|\n",
    "|5|7.80|\n",
    "|6|7.13|\n",
    "|7|6.60|\n",
    "|8|6.18|\n",
    "|9|5.80|\n",
    "|10|5.51|\n",
    "\n"
   ]
  },
  {
   "cell_type": "markdown",
   "metadata": {},
   "source": [
    "Part 2:\n",
    "\n",
    "Procedure:\n",
    "- fixed decade box capacitance of 3 nF\n",
    "- varying the frequency on the signal generator and measuring the pk to pk voltage of the input signal and voltage across the resistor\n",
    "- recording the frequency on the signal generator and the phase difference between the two waves according to the oscilloscope"
   ]
  },
  {
   "cell_type": "code",
   "execution_count": 10,
   "metadata": {},
   "outputs": [
    {
     "data": {
      "image/png": "[encoded data removed]",
      "text/plain": [
       "<Figure size 432x288 with 1 Axes>"
      ]
     },
     "metadata": {
      "needs_background": "light"
     },
     "output_type": "display_data"
    },
    {
     "data": {
      "image/png": "[encoded data removed]",
      "text/plain": [
       "<Figure size 432x288 with 1 Axes>"
      ]
     },
     "metadata": {
      "needs_background": "light"
     },
     "output_type": "display_data"
    }
   ],
   "source": [
    "import numpy as np\n",
    "import pandas as pd\n",
    "import matplotlib.pyplot as plt\n",
    "df = pd.read_excel(\"elecres.xlsx\")\n",
    "vr = df.iloc[:,0].to_numpy(dtype=float)\n",
    "vt = df.iloc[:,1].to_numpy(dtype=float)\n",
    "phase = df.iloc[:,2].to_numpy(dtype=float)\n",
    "freq = df.iloc[:,3].to_numpy(dtype=float)\n",
    "plt.plot(freq, vr/vt, \"bo\", label=\"Vr/Vt\")\n",
    "plt.show()\n",
    "plt.plot(phase, vr/vt, \"bo\", label=\"Phase\")\n",
    "plt.show()"
   ]
  },
  {
   "cell_type": "code",
   "execution_count": null,
   "metadata": {},
   "outputs": [],
   "source": []
  }
 ],
 "metadata": {
  "interpreter": {
   "hash": "8c6646cdeb4cb886156fd6c7d9e2e19fb88145f69934c2b37342cc07bcf5a66c"
  },
  "kernelspec": {
   "display_name": "Python 3 (ipykernel)",
   "language": "python",
   "name": "python3"
  },
  "language_info": {
   "codemirror_mode": {
    "name": "ipython",
    "version": 3
   },
   "file_extension": ".py",
   "mimetype": "text/x-python",
   "name": "python",
   "nbconvert_exporter": "python",
   "pygments_lexer": "ipython3",
   "version": "3.9.7"
  }
 },
 "nbformat": 4,
 "nbformat_minor": 2
}
