{
 "cells": [
  {
   "cell_type": "markdown",
   "metadata": {},
   "source": [
    "Part 1\n",
    "\n",
    "Procedure:\n",
    "- Capacitance set 3nF as a test to find resonant frequency\n",
    "- oscilloscope probes connected to common ground with channel 1 measuring the voltage across the resistor and channel 2 measuring the input signal\n",
    "- resonant frequency measured by observing when the phase difference between the two waves was 0 and the voltage on channel 1 was maximized\n",
    "- averaging on the oscilloscope set to 2\n",
    "\n",
    "Table 1: Resonant frequency in the RLC circuit as the capacitance on the decade capacitance box was varied\n",
    "\n",
    "\n",
    "| Decade Box Capacitance (+/- 0.5 nF) | Resonant frequency (+/- 0.01 kHz)|\n",
    "|:--:|:--:|\n",
    "|1|16.33|\n",
    "|2|11.96|\n",
    "|3|10.02|\n",
    "|4|8.70|\n",
    "|5|7.80|\n",
    "|6|7.13|\n",
    "|7|6.60|\n",
    "|8|6.18|\n",
    "|9|5.80|\n",
    "|10|5.51|\n",
    "\n"
   ]
  },
  {
   "cell_type": "markdown",
   "metadata": {},
   "source": [
    "Part 2:\n",
    "\n",
    "Procedure:"
   ]
  },
  {
   "cell_type": "code",
   "execution_count": null,
   "metadata": {},
   "outputs": [],
   "source": []
  }
 ],
 "metadata": {
  "interpreter": {
   "hash": "8c6646cdeb4cb886156fd6c7d9e2e19fb88145f69934c2b37342cc07bcf5a66c"
  },
  "kernelspec": {
   "display_name": "Python 3 (ipykernel)",
   "language": "python",
   "name": "python3"
  },
  "language_info": {
   "codemirror_mode": {
    "name": "ipython",
    "version": 3
   },
   "file_extension": ".py",
   "mimetype": "text/x-python",
   "name": "python",
   "nbconvert_exporter": "python",
   "pygments_lexer": "ipython3",
   "version": "3.9.7"
  }
 },
 "nbformat": 4,
 "nbformat_minor": 2
}
